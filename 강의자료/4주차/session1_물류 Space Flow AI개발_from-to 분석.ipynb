{
  "cells": [
    {
      "cell_type": "markdown",
      "metadata": {
        "colab_type": "text",
        "id": "view-in-github"
      },
      "source": [
        "<a href=\"https://colab.research.google.com/github/boyu571/kpc_lecture_notes/blob/master/(%EC%9E%90%EB%8F%99%ED%99%94)Block_%EC%84%A4%EA%B3%84_%EC%B5%9C%EC%A2%85.ipynb\" target=\"_parent\"><img src=\"https://colab.research.google.com/assets/colab-badge.svg\" alt=\"Open In Colab\"/></a>"
      ]
    },
    {
      "cell_type": "code",
      "execution_count": 3,
      "metadata": {
        "id": "k-CxGUjC9bEM"
      },
      "outputs": [],
      "source": [
        "# 필요한 라이브러리, 함수 import하기\n",
        "\n",
        "import pandas as pd\n",
        "from itertools import permutations"
      ]
    },
    {
      "cell_type": "markdown",
      "metadata": {
        "id": "gq8BDPFRW9sX"
      },
      "source": [
        "## sum_product() 함수의 정의"
      ]
    },
    {
      "cell_type": "code",
      "execution_count": 5,
      "metadata": {
        "id": "6qTXlbz_aNUE"
      },
      "outputs": [],
      "source": [
        "def sum_product(list1, list2):\n",
        "    return sum([list1[i][j] * list2[i][j] for i in range(len(list1)) for j in range(len(list1[0]))])"
      ]
    },
    {
      "cell_type": "markdown",
      "metadata": {
        "id": "bNn86ayybr1j"
      },
      "source": [
        "### To-be1"
      ]
    },
    {
      "cell_type": "code",
      "execution_count": 6,
      "metadata": {
        "colab": {
          "base_uri": "https://localhost:8080/"
        },
        "id": "_UfF-fyATsku",
        "outputId": "c7f9db56-b3d8-4bd0-e554-8a648613e548"
      },
      "outputs": [
        {
          "data": {
            "text/plain": [
              "dict"
            ]
          },
          "execution_count": 6,
          "metadata": {},
          "output_type": "execute_result"
        }
      ],
      "source": [
        "# 거리 정보\n",
        "distance_data = {'A': {'A': 0, 'B': 20, 'C': 40},\n",
        "                 'B': {'A': 20, 'B': 0, 'C': 30},\n",
        "                 'C': {'A': 40, 'B': 30, 'C': 0}}\n",
        "type(distance_data)"
      ]
    },
    {
      "cell_type": "code",
      "execution_count": 7,
      "metadata": {
        "colab": {
          "base_uri": "https://localhost:8080/",
          "height": 143
        },
        "id": "Xz8Z8KaOUddh",
        "outputId": "c0a2739e-1292-422b-e141-101623470184"
      },
      "outputs": [
        {
          "data": {
            "text/html": [
              "<div>\n",
              "<style scoped>\n",
              "    .dataframe tbody tr th:only-of-type {\n",
              "        vertical-align: middle;\n",
              "    }\n",
              "\n",
              "    .dataframe tbody tr th {\n",
              "        vertical-align: top;\n",
              "    }\n",
              "\n",
              "    .dataframe thead th {\n",
              "        text-align: right;\n",
              "    }\n",
              "</style>\n",
              "<table border=\"1\" class=\"dataframe\">\n",
              "  <thead>\n",
              "    <tr style=\"text-align: right;\">\n",
              "      <th></th>\n",
              "      <th>A</th>\n",
              "      <th>B</th>\n",
              "      <th>C</th>\n",
              "    </tr>\n",
              "  </thead>\n",
              "  <tbody>\n",
              "    <tr>\n",
              "      <th>A</th>\n",
              "      <td>0</td>\n",
              "      <td>20</td>\n",
              "      <td>40</td>\n",
              "    </tr>\n",
              "    <tr>\n",
              "      <th>B</th>\n",
              "      <td>20</td>\n",
              "      <td>0</td>\n",
              "      <td>30</td>\n",
              "    </tr>\n",
              "    <tr>\n",
              "      <th>C</th>\n",
              "      <td>40</td>\n",
              "      <td>30</td>\n",
              "      <td>0</td>\n",
              "    </tr>\n",
              "  </tbody>\n",
              "</table>\n",
              "</div>"
            ],
            "text/plain": [
              "    A   B   C\n",
              "A   0  20  40\n",
              "B  20   0  30\n",
              "C  40  30   0"
            ]
          },
          "execution_count": 7,
          "metadata": {},
          "output_type": "execute_result"
        }
      ],
      "source": [
        "pd.DataFrame(distance_data)"
      ]
    },
    {
      "cell_type": "code",
      "execution_count": 8,
      "metadata": {
        "colab": {
          "base_uri": "https://localhost:8080/"
        },
        "id": "JnCv4lvIT8if",
        "outputId": "ef6c2321-1910-4321-e939-358e364d7a6a"
      },
      "outputs": [
        {
          "data": {
            "text/plain": [
              "{'1': {'1': 0, '3': 80, '2': 10},\n",
              " '3': {'1': 90, '3': 0, '2': 70},\n",
              " '2': {'1': 20, '3': 30, '2': 0}}"
            ]
          },
          "execution_count": 8,
          "metadata": {},
          "output_type": "execute_result"
        }
      ],
      "source": [
        "# 작업량 정보\n",
        "workload_data = {'1': {'1': 0, '3': 80, '2': 10},\n",
        "                 '3': {'1': 90, '3': 0, '2': 70},\n",
        "                 '2': {'1': 20, '3': 30, '2': 0}}\n",
        "workload_data"
      ]
    },
    {
      "cell_type": "code",
      "execution_count": 9,
      "metadata": {
        "colab": {
          "base_uri": "https://localhost:8080/"
        },
        "id": "Mlfx-RlmWEW1",
        "outputId": "1f703145-8d9c-4350-e6cf-62bf46aba4cb"
      },
      "outputs": [
        {
          "name": "stdout",
          "output_type": "stream",
          "text": [
            "7600\n"
          ]
        }
      ],
      "source": [
        "distance_list = [[distance_data[from_loc][to_loc] for to_loc in distance_data] for from_loc in distance_data]\n",
        "workload_list = [[workload_data[from_loc][to_loc] for to_loc in workload_data] for from_loc in workload_data]\n",
        "\n",
        "result = sum_product(distance_list, workload_list)\n",
        "print(result)"
      ]
    },
    {
      "cell_type": "markdown",
      "metadata": {
        "id": "WWATokXxbqoj"
      },
      "source": [
        "### To-be2"
      ]
    },
    {
      "cell_type": "code",
      "execution_count": 11,
      "metadata": {
        "id": "PKpZn8IfbDuq"
      },
      "outputs": [],
      "source": [
        "workload_data = {'3': {'3': 0, '1': 90, '2': 70},\n",
        "                 '1': {'3': 80, '1': 0, '2': 10},\n",
        "                 '2': {'3': 30, '1': 20, '2': 0}}"
      ]
    },
    {
      "cell_type": "code",
      "execution_count": 12,
      "metadata": {
        "colab": {
          "base_uri": "https://localhost:8080/"
        },
        "id": "qC-39T3xboab",
        "outputId": "a5657876-1e06-449b-aaa1-76f2c02e528c"
      },
      "outputs": [
        {
          "name": "stdout",
          "output_type": "stream",
          "text": [
            "8300\n"
          ]
        }
      ],
      "source": [
        "distance_list = [[distance_data[from_loc][to_loc] for to_loc in distance_data] for from_loc in distance_data]\n",
        "workload_list = [[workload_data[from_loc][to_loc] for to_loc in workload_data] for from_loc in workload_data]\n",
        "\n",
        "result = sum_product(distance_list, workload_list)\n",
        "print(result)"
      ]
    },
    {
      "cell_type": "markdown",
      "metadata": {
        "id": "BxfAeD_6cVqm"
      },
      "source": [
        "### To-be3"
      ]
    },
    {
      "cell_type": "code",
      "execution_count": 13,
      "metadata": {
        "id": "wlRXEU29bp3I"
      },
      "outputs": [],
      "source": [
        "workload_data = {'2': {'2': 0, '3': 30, '1': 20},\n",
        "                 '3': {'2': 90, '3': 0, '1': 70},\n",
        "                 '1': {'2': 10, '3': 80, '1': 0}}"
      ]
    },
    {
      "cell_type": "code",
      "execution_count": 14,
      "metadata": {
        "colab": {
          "base_uri": "https://localhost:8080/"
        },
        "id": "NylfhcnTcUA5",
        "outputId": "65d1b5cf-e9ea-488f-b7b1-090b4c4b4dba"
      },
      "outputs": [
        {
          "name": "stdout",
          "output_type": "stream",
          "text": [
            "8100\n"
          ]
        }
      ],
      "source": [
        "distance_list = [[distance_data[from_loc][to_loc] for to_loc in distance_data] for from_loc in distance_data]\n",
        "workload_list = [[workload_data[from_loc][to_loc] for to_loc in workload_data] for from_loc in workload_data]\n",
        "\n",
        "result = sum_product(distance_list, workload_list)\n",
        "print(result)"
      ]
    },
    {
      "cell_type": "markdown",
      "metadata": {
        "id": "s_G5EtLmlUZ7"
      },
      "source": [
        "### 전체 경우의 수 계산"
      ]
    },
    {
      "cell_type": "code",
      "execution_count": 15,
      "metadata": {
        "colab": {
          "base_uri": "https://localhost:8080/",
          "height": 237
        },
        "id": "CA6EYwTBeATK",
        "outputId": "c4b1ac33-6d53-4429-df57-0a396fca491b"
      },
      "outputs": [
        {
          "data": {
            "text/html": [
              "<div>\n",
              "<style scoped>\n",
              "    .dataframe tbody tr th:only-of-type {\n",
              "        vertical-align: middle;\n",
              "    }\n",
              "\n",
              "    .dataframe tbody tr th {\n",
              "        vertical-align: top;\n",
              "    }\n",
              "\n",
              "    .dataframe thead th {\n",
              "        text-align: right;\n",
              "    }\n",
              "</style>\n",
              "<table border=\"1\" class=\"dataframe\">\n",
              "  <thead>\n",
              "    <tr style=\"text-align: right;\">\n",
              "      <th></th>\n",
              "      <th>Distance Permutation</th>\n",
              "      <th>Result</th>\n",
              "    </tr>\n",
              "  </thead>\n",
              "  <tbody>\n",
              "    <tr>\n",
              "      <th>0</th>\n",
              "      <td>A, B, C, 2, 3, 1</td>\n",
              "      <td>8100</td>\n",
              "    </tr>\n",
              "    <tr>\n",
              "      <th>1</th>\n",
              "      <td>A, B, C, 2, 1, 3</td>\n",
              "      <td>9900</td>\n",
              "    </tr>\n",
              "    <tr>\n",
              "      <th>2</th>\n",
              "      <td>A, B, C, 3, 2, 1</td>\n",
              "      <td>9300</td>\n",
              "    </tr>\n",
              "    <tr>\n",
              "      <th>3</th>\n",
              "      <td>A, B, C, 3, 1, 2</td>\n",
              "      <td>8700</td>\n",
              "    </tr>\n",
              "    <tr>\n",
              "      <th>4</th>\n",
              "      <td>A, B, C, 1, 2, 3</td>\n",
              "      <td>10200</td>\n",
              "    </tr>\n",
              "    <tr>\n",
              "      <th>5</th>\n",
              "      <td>A, B, C, 1, 3, 2</td>\n",
              "      <td>7800</td>\n",
              "    </tr>\n",
              "  </tbody>\n",
              "</table>\n",
              "</div>"
            ],
            "text/plain": [
              "  Distance Permutation  Result\n",
              "0     A, B, C, 2, 3, 1    8100\n",
              "1     A, B, C, 2, 1, 3    9900\n",
              "2     A, B, C, 3, 2, 1    9300\n",
              "3     A, B, C, 3, 1, 2    8700\n",
              "4     A, B, C, 1, 2, 3   10200\n",
              "5     A, B, C, 1, 3, 2    7800"
            ]
          },
          "execution_count": 15,
          "metadata": {},
          "output_type": "execute_result"
        }
      ],
      "source": [
        "#이 함수는 및 사전 permutations에 있는 키의 가능한 모든 순열을 생성하는 데 사용됩니다 .distance_dataworkload_data\n",
        "distance_permutations = permutations(distance_data.keys())\n",
        "workload_permutations = permutations(workload_data.keys())\n",
        "\n",
        "#중첩된 루프는 거리 및 워크로드 순열의 각 조합을 반복하는 데 사용됩니다.\n",
        "#각 조합에 대해 해당 거리 및 작업량 값이 검색되어 및 에 distance_list각각 저장됩니다 workload_list.\n",
        "#sum_product거리 및 작업 부하 목록을 기반으로 결과를 계산하기 위해 함수가 호출됩니다 .\n",
        "#결과가 results목록에 추가되고 순열 조합이 목록에 저장됩니다 permutations_data.\n",
        "\n",
        "results = []\n",
        "permutations_data = []\n",
        "\n",
        "for distance_perm in distance_permutations:\n",
        "    for workload_perm in workload_permutations:\n",
        "        distance_list = [[distance_data[from_loc][to_loc] for to_loc in distance_perm] for from_loc in distance_perm]\n",
        "        workload_list = [[workload_data[from_loc][to_loc] for to_loc in workload_perm] for from_loc in workload_perm]\n",
        "        result = sum_product(distance_list, workload_list)\n",
        "        results.append(result)\n",
        "        permutations_data.append((distance_perm, workload_perm))\n",
        "\n",
        "#DataFrame은 열 이름을 키로 사용하고 해당 목록을 값으로 사용하는 사전을 사용하여 생성됩니다.\n",
        "#목록 내포는 거리 및 워크로드 순열을 \"거리 순열\"에 대한 문자열 형식으로 결합하는 데 사용됩니다.\n",
        "\n",
        "\n",
        "df = pd.DataFrame({'Distance Permutation': [f'{\", \".join(perm[0])}, {\", \".join(perm[1])}' for perm in permutations_data],\n",
        "                   'Result': results})\n",
        "df"
      ]
    },
    {
      "cell_type": "markdown",
      "metadata": {
        "id": "cEiubDBDdRVh"
      },
      "source": [
        "### 추가 예제(4X4)"
      ]
    },
    {
      "cell_type": "code",
      "execution_count": 16,
      "metadata": {
        "id": "XKsuls5HdQvy"
      },
      "outputs": [],
      "source": [
        "# 거리 정보\n",
        "distance_data = {'A': {'A': 0, 'B': 20, 'C': 40,'D':10},\n",
        "                 'B': {'A': 20, 'B': 0, 'C': 30,'D':10},\n",
        "                 'C': {'A': 40, 'B': 30, 'C': 0,'D':20},\n",
        "                 'D': {'A': 40, 'B': 30, 'C': 30,'D':0}}\n",
        "# 작업량 정보\n",
        "workload_data = {'1': {'1': 0, '2': 10, '3': 80,'4':20},\n",
        "                 '2': {'1': 20, '2': 0, '3': 30,'4':10},\n",
        "                 '3': {'1': 90, '2': 70, '3': 0,'4':60},\n",
        "                 '4': {'1': 20, '2': 0, '3': 30,'4':0}}"
      ]
    },
    {
      "cell_type": "code",
      "execution_count": 17,
      "metadata": {
        "colab": {
          "base_uri": "https://localhost:8080/",
          "height": 802
        },
        "id": "bxiYhlRZdTFq",
        "outputId": "9fe7347d-60e5-4ed4-bf4f-cb402b724bea"
      },
      "outputs": [
        {
          "data": {
            "text/html": [
              "<div>\n",
              "<style scoped>\n",
              "    .dataframe tbody tr th:only-of-type {\n",
              "        vertical-align: middle;\n",
              "    }\n",
              "\n",
              "    .dataframe tbody tr th {\n",
              "        vertical-align: top;\n",
              "    }\n",
              "\n",
              "    .dataframe thead th {\n",
              "        text-align: right;\n",
              "    }\n",
              "</style>\n",
              "<table border=\"1\" class=\"dataframe\">\n",
              "  <thead>\n",
              "    <tr style=\"text-align: right;\">\n",
              "      <th></th>\n",
              "      <th>Distance Permutation</th>\n",
              "      <th>Result</th>\n",
              "    </tr>\n",
              "  </thead>\n",
              "  <tbody>\n",
              "    <tr>\n",
              "      <th>0</th>\n",
              "      <td>A, B, C, D, 1, 2, 3, 4</td>\n",
              "      <td>13600</td>\n",
              "    </tr>\n",
              "    <tr>\n",
              "      <th>1</th>\n",
              "      <td>A, B, C, D, 1, 2, 4, 3</td>\n",
              "      <td>11700</td>\n",
              "    </tr>\n",
              "    <tr>\n",
              "      <th>2</th>\n",
              "      <td>A, B, C, D, 1, 3, 2, 4</td>\n",
              "      <td>10300</td>\n",
              "    </tr>\n",
              "    <tr>\n",
              "      <th>3</th>\n",
              "      <td>A, B, C, D, 1, 3, 4, 2</td>\n",
              "      <td>10500</td>\n",
              "    </tr>\n",
              "    <tr>\n",
              "      <th>4</th>\n",
              "      <td>A, B, C, D, 1, 4, 2, 3</td>\n",
              "      <td>11500</td>\n",
              "    </tr>\n",
              "    <tr>\n",
              "      <th>5</th>\n",
              "      <td>A, B, C, D, 1, 4, 3, 2</td>\n",
              "      <td>13800</td>\n",
              "    </tr>\n",
              "    <tr>\n",
              "      <th>6</th>\n",
              "      <td>A, B, C, D, 2, 1, 3, 4</td>\n",
              "      <td>12700</td>\n",
              "    </tr>\n",
              "    <tr>\n",
              "      <th>7</th>\n",
              "      <td>A, B, C, D, 2, 1, 4, 3</td>\n",
              "      <td>11200</td>\n",
              "    </tr>\n",
              "    <tr>\n",
              "      <th>8</th>\n",
              "      <td>A, B, C, D, 2, 3, 1, 4</td>\n",
              "      <td>10900</td>\n",
              "    </tr>\n",
              "    <tr>\n",
              "      <th>9</th>\n",
              "      <td>A, B, C, D, 2, 3, 4, 1</td>\n",
              "      <td>10000</td>\n",
              "    </tr>\n",
              "    <tr>\n",
              "      <th>10</th>\n",
              "      <td>A, B, C, D, 2, 4, 1, 3</td>\n",
              "      <td>12100</td>\n",
              "    </tr>\n",
              "    <tr>\n",
              "      <th>11</th>\n",
              "      <td>A, B, C, D, 2, 4, 3, 1</td>\n",
              "      <td>12500</td>\n",
              "    </tr>\n",
              "    <tr>\n",
              "      <th>12</th>\n",
              "      <td>A, B, C, D, 3, 1, 2, 4</td>\n",
              "      <td>11100</td>\n",
              "    </tr>\n",
              "    <tr>\n",
              "      <th>13</th>\n",
              "      <td>A, B, C, D, 3, 1, 4, 2</td>\n",
              "      <td>11100</td>\n",
              "    </tr>\n",
              "    <tr>\n",
              "      <th>14</th>\n",
              "      <td>A, B, C, D, 3, 2, 1, 4</td>\n",
              "      <td>12600</td>\n",
              "    </tr>\n",
              "    <tr>\n",
              "      <th>15</th>\n",
              "      <td>A, B, C, D, 3, 2, 4, 1</td>\n",
              "      <td>11500</td>\n",
              "    </tr>\n",
              "    <tr>\n",
              "      <th>16</th>\n",
              "      <td>A, B, C, D, 3, 4, 1, 2</td>\n",
              "      <td>12800</td>\n",
              "    </tr>\n",
              "    <tr>\n",
              "      <th>17</th>\n",
              "      <td>A, B, C, D, 3, 4, 2, 1</td>\n",
              "      <td>11700</td>\n",
              "    </tr>\n",
              "    <tr>\n",
              "      <th>18</th>\n",
              "      <td>A, B, C, D, 4, 1, 2, 3</td>\n",
              "      <td>11000</td>\n",
              "    </tr>\n",
              "    <tr>\n",
              "      <th>19</th>\n",
              "      <td>A, B, C, D, 4, 1, 3, 2</td>\n",
              "      <td>12900</td>\n",
              "    </tr>\n",
              "    <tr>\n",
              "      <th>20</th>\n",
              "      <td>A, B, C, D, 4, 2, 1, 3</td>\n",
              "      <td>12100</td>\n",
              "    </tr>\n",
              "    <tr>\n",
              "      <th>21</th>\n",
              "      <td>A, B, C, D, 4, 2, 3, 1</td>\n",
              "      <td>12500</td>\n",
              "    </tr>\n",
              "    <tr>\n",
              "      <th>22</th>\n",
              "      <td>A, B, C, D, 4, 3, 1, 2</td>\n",
              "      <td>11300</td>\n",
              "    </tr>\n",
              "    <tr>\n",
              "      <th>23</th>\n",
              "      <td>A, B, C, D, 4, 3, 2, 1</td>\n",
              "      <td>10200</td>\n",
              "    </tr>\n",
              "  </tbody>\n",
              "</table>\n",
              "</div>"
            ],
            "text/plain": [
              "      Distance Permutation  Result\n",
              "0   A, B, C, D, 1, 2, 3, 4   13600\n",
              "1   A, B, C, D, 1, 2, 4, 3   11700\n",
              "2   A, B, C, D, 1, 3, 2, 4   10300\n",
              "3   A, B, C, D, 1, 3, 4, 2   10500\n",
              "4   A, B, C, D, 1, 4, 2, 3   11500\n",
              "5   A, B, C, D, 1, 4, 3, 2   13800\n",
              "6   A, B, C, D, 2, 1, 3, 4   12700\n",
              "7   A, B, C, D, 2, 1, 4, 3   11200\n",
              "8   A, B, C, D, 2, 3, 1, 4   10900\n",
              "9   A, B, C, D, 2, 3, 4, 1   10000\n",
              "10  A, B, C, D, 2, 4, 1, 3   12100\n",
              "11  A, B, C, D, 2, 4, 3, 1   12500\n",
              "12  A, B, C, D, 3, 1, 2, 4   11100\n",
              "13  A, B, C, D, 3, 1, 4, 2   11100\n",
              "14  A, B, C, D, 3, 2, 1, 4   12600\n",
              "15  A, B, C, D, 3, 2, 4, 1   11500\n",
              "16  A, B, C, D, 3, 4, 1, 2   12800\n",
              "17  A, B, C, D, 3, 4, 2, 1   11700\n",
              "18  A, B, C, D, 4, 1, 2, 3   11000\n",
              "19  A, B, C, D, 4, 1, 3, 2   12900\n",
              "20  A, B, C, D, 4, 2, 1, 3   12100\n",
              "21  A, B, C, D, 4, 2, 3, 1   12500\n",
              "22  A, B, C, D, 4, 3, 1, 2   11300\n",
              "23  A, B, C, D, 4, 3, 2, 1   10200"
            ]
          },
          "execution_count": 17,
          "metadata": {},
          "output_type": "execute_result"
        }
      ],
      "source": [
        "#이 함수는 및 사전 permutations에 있는 키의 가능한 모든 순열을 생성하는 데 사용됩니다 .distance_dataworkload_data\n",
        "distance_permutations = permutations(distance_data.keys())\n",
        "workload_permutations = permutations(workload_data.keys())\n",
        "\n",
        "#중첩된 루프는 거리 및 워크로드 순열의 각 조합을 반복하는 데 사용됩니다.\n",
        "#각 조합에 대해 해당 거리 및 작업량 값이 검색되어 및 에 distance_list각각 저장됩니다 workload_list.\n",
        "#sum_product거리 및 작업 부하 목록을 기반으로 결과를 계산하기 위해 함수가 호출됩니다 .\n",
        "#결과가 results목록에 추가되고 조합이 목록에 저장됩니다 permutations_data.\n",
        "\n",
        "results = []\n",
        "permutations_data = []\n",
        "\n",
        "for distance_perm in distance_permutations:\n",
        "    for workload_perm in workload_permutations:\n",
        "        distance_list = [[distance_data[from_loc][to_loc] for to_loc in distance_perm] for from_loc in distance_perm]\n",
        "        workload_list = [[workload_data[from_loc][to_loc] for to_loc in workload_perm] for from_loc in workload_perm]\n",
        "        result = sum_product(distance_list, workload_list)\n",
        "        results.append(result)\n",
        "        permutations_data.append((distance_perm, workload_perm))\n",
        "\n",
        "#DataFrame은 열 이름을 키로 사용하고 해당 목록을 값으로 사용하는 사전을 사용하여 생성됩니다.\n",
        "#목록 내포는 거리 및 워크로드 순열을 \"거리 순열\"에 대한 문자열 형식으로 결합하는 데 사용됩니다.\n",
        "\n",
        "\n",
        "df = pd.DataFrame({'Distance Permutation': [f'{\", \".join(perm[0])}, {\", \".join(perm[1])}' for perm in permutations_data],\n",
        "                   'Result': results})\n",
        "df\n",
        "# df.loc[df[\"Result\"].idxmin()]"
      ]
    }
  ],
  "metadata": {
    "colab": {
      "include_colab_link": true,
      "provenance": []
    },
    "kernelspec": {
      "display_name": "Python 3",
      "name": "python3"
    },
    "language_info": {
      "codemirror_mode": {
        "name": "ipython",
        "version": 3
      },
      "file_extension": ".py",
      "mimetype": "text/x-python",
      "name": "python",
      "nbconvert_exporter": "python",
      "pygments_lexer": "ipython3",
      "version": "3.11.3"
    }
  },
  "nbformat": 4,
  "nbformat_minor": 0
}
